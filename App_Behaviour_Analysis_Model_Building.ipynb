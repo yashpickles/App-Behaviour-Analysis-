{
  "nbformat": 4,
  "nbformat_minor": 0,
  "metadata": {
    "colab": {
      "name": "App-Behaviour-Analysis Model Building.ipynb",
      "provenance": [],
      "toc_visible": true,
      "authorship_tag": "ABX9TyMpwURpultUgT8kK6vCCcCx",
      "include_colab_link": true
    },
    "kernelspec": {
      "name": "python3",
      "display_name": "Python 3"
    }
  },
  "cells": [
    {
      "cell_type": "markdown",
      "metadata": {
        "id": "view-in-github",
        "colab_type": "text"
      },
      "source": [
        "<a href=\"https://colab.research.google.com/github/yashpickles/App-Behaviour-Analysis-/blob/main/App_Behaviour_Analysis_Model_Building.ipynb\" target=\"_parent\"><img src=\"https://colab.research.google.com/assets/colab-badge.svg\" alt=\"Open In Colab\"/></a>"
      ]
    },
    {
      "cell_type": "markdown",
      "metadata": {
        "id": "qqb370Gv70rn"
      },
      "source": [
        "# **Case Study: Directing Customers to Subscription through App behaviour Analysis**\n",
        "###**-Yash Acharya**"
      ]
    },
    {
      "cell_type": "markdown",
      "metadata": {
        "id": "WkoUG3o18K7g"
      },
      "source": [
        "## 1) Problem Statement"
      ]
    },
    {
      "cell_type": "markdown",
      "metadata": {
        "id": "JGKRaqfZ8PPO"
      },
      "source": [
        "Here, we are working on financial application data and predicting the customer who will take the Premium services of the app or not. In accordance, the company will take action on the customers to give the offers or not.\n",
        "\n",
        "**About App:**\n",
        "A Financial Technology company (Fin-Tech Company) launches their mobile application. This app is used for financial purposes like Bank loans, Savings, etc. all at one place. It has two versions, free and premium. The free version contains basic features and if customer wants to use the Premium features then they have to pay a certain amount to unlock it.\n",
        "\n",
        "The main goal of the company is to sell the Premium version of the app with low advertisement cost but they haven't found out the way to do it. That’s the reason they provid the Premium features in the free version app for 24 hours to collect the customer’s behavior.\n",
        "\n",
        "**About the Dataset:**\n",
        "\n",
        "*   user: Unique ID for each user.\n",
        "*   first_open: Date (yy-mm-dd) and time (Hour:Minute:Seconds:Milliseconds) of login on app first time.\n",
        "*   dayofweek: On which day user logon.\n",
        "0: Sunday\n",
        "1: Monday\n",
        "2: Tuesday\n",
        "3: Wednesday\n",
        "4: Thursday\n",
        "5: Friday\n",
        "6: Saturday\n",
        "*   Hour: Time of a day in 24-hour format customer logon. It is correlated with dayofweek column. \n",
        "*   age: The age of the registered user.\n",
        "*   screen_list: The name of multiple screens seen by customers, which are separated by a comma.\n",
        "*   numscreens: The total number of screens seen by customers.\n",
        "*   minigame: Tha app contains small games related to finance. If the customer played mini-game then 1 otherwise 0.\n",
        "*   used_premium_feature: If the customer used the premium feature of the app then 1 otherwise 0.\n",
        "*   enrolled: If the user bought a premium feature app then 1 otherwise 0.\n",
        "*    enrolled_date: On the date (yy-mm-dd) and time (Hour:Minute:Seconds:Milliseconds) the user bought a premium features app.\n",
        "*   liked: The each screen of the app has a like button if the customer likes it then 1 otherwise 0.\n"
      ]
    },
    {
      "cell_type": "markdown",
      "metadata": {
        "id": "iVeQ_gcr8W0m"
      },
      "source": [
        "## 2) Importing the Libraries"
      ]
    },
    {
      "cell_type": "code",
      "metadata": {
        "id": "WRsXJbCU8iwf"
      },
      "source": [
        "import pandas as pd\n",
        "import numpy as np\n",
        "import matplotlib.pyplot as plt\n",
        "import seaborn as sns\n",
        "import time"
      ],
      "execution_count": 1,
      "outputs": []
    },
    {
      "cell_type": "markdown",
      "metadata": {
        "id": "rhftSyjA-H0f"
      },
      "source": [
        "## 3) Importing the Dataset"
      ]
    },
    {
      "cell_type": "code",
      "metadata": {
        "id": "Ezl3tiEV-M_O"
      },
      "source": [
        "dataset = pd.read_csv('New_appdata20.csv')"
      ],
      "execution_count": 2,
      "outputs": []
    },
    {
      "cell_type": "markdown",
      "metadata": {
        "id": "vVXxUy51-kSm"
      },
      "source": [
        "## 4) Data Preprocessing"
      ]
    },
    {
      "cell_type": "code",
      "metadata": {
        "id": "cOghtflh-rLm"
      },
      "source": [
        "response = dataset[\"enrolled\"]\n",
        "dataset = dataset.drop(columns='enrolled')"
      ],
      "execution_count": 3,
      "outputs": []
    },
    {
      "cell_type": "markdown",
      "metadata": {
        "id": "ZXs0OVhe_El2"
      },
      "source": [
        "## 5) Splitting the Dataset into Training and Test set"
      ]
    },
    {
      "cell_type": "code",
      "metadata": {
        "id": "ff7Q8t_B_S4d"
      },
      "source": [
        "from sklearn.model_selection import train_test_split\n",
        "X_train, X_test, y_train, y_test = train_test_split(dataset, response, test_size = 0.2, random_state = 0)"
      ],
      "execution_count": 4,
      "outputs": []
    },
    {
      "cell_type": "code",
      "metadata": {
        "id": "i36tunypABn1"
      },
      "source": [
        "train_identifier = X_train['user']\n",
        "X_train = X_train.drop(columns='user')\n",
        "test_identifer = X_test['user']\n",
        "X_test = X_test.drop(columns='user')\n"
      ],
      "execution_count": 5,
      "outputs": []
    },
    {
      "cell_type": "markdown",
      "metadata": {
        "id": "Pay0oZUzDOsp"
      },
      "source": [
        "## 6) Feature Scaling"
      ]
    },
    {
      "cell_type": "code",
      "metadata": {
        "id": "llAJISJJDizF"
      },
      "source": [
        "from sklearn.preprocessing import StandardScaler\n",
        "sc_x = StandardScaler()\n",
        "X_train2 = pd.DataFrame(sc_x.fit_transform(X_train))\n",
        "X_test2 = pd.DataFrame(sc_x.transform(X_test))\n",
        "X_train2.columns = X_train.columns.values\n",
        "X_test2.columns = X_test.columns.values\n",
        "X_train2.index = X_train.index.values\n",
        "X_test2.index = X_test.index.values\n",
        "X_train = X_train2\n",
        "X_test = X_test2"
      ],
      "execution_count": 6,
      "outputs": []
    },
    {
      "cell_type": "markdown",
      "metadata": {
        "id": "klPDvkbhKfus"
      },
      "source": [
        "## 7) Model Training"
      ]
    },
    {
      "cell_type": "code",
      "metadata": {
        "colab": {
          "base_uri": "https://localhost:8080/"
        },
        "id": "V1Tt-pg9MyFJ",
        "outputId": "0411ca1c-09e3-492c-e11a-7a130b44b784"
      },
      "source": [
        "from sklearn.linear_model import LogisticRegression \n",
        "classifier = LogisticRegression(random_state = 0, penalty = 'l2')\n",
        "classifier.fit(X_train, y_train)"
      ],
      "execution_count": 11,
      "outputs": [
        {
          "output_type": "execute_result",
          "data": {
            "text/plain": [
              "LogisticRegression(C=1.0, class_weight=None, dual=False, fit_intercept=True,\n",
              "                   intercept_scaling=1, l1_ratio=None, max_iter=100,\n",
              "                   multi_class='auto', n_jobs=None, penalty='l2',\n",
              "                   random_state=0, solver='lbfgs', tol=0.0001, verbose=0,\n",
              "                   warm_start=False)"
            ]
          },
          "metadata": {
            "tags": []
          },
          "execution_count": 11
        }
      ]
    },
    {
      "cell_type": "markdown",
      "metadata": {
        "id": "XSmxhyheNOAD"
      },
      "source": [
        "## 8) Prediciting the Test set Result"
      ]
    },
    {
      "cell_type": "code",
      "metadata": {
        "id": "5Fc7tuDSNWEt"
      },
      "source": [
        "y_pred = classifier.predict(X_test) "
      ],
      "execution_count": 12,
      "outputs": []
    },
    {
      "cell_type": "markdown",
      "metadata": {
        "id": "9lFn5RSxOEgy"
      },
      "source": [
        "## 9) Making a Confusion Matrix"
      ]
    },
    {
      "cell_type": "code",
      "metadata": {
        "colab": {
          "base_uri": "https://localhost:8080/",
          "height": 442
        },
        "id": "4QBGJCyROMcL",
        "outputId": "556d75ee-c38c-485e-8e17-686dc1dfabe0"
      },
      "source": [
        "from sklearn.metrics import confusion_matrix, accuracy_score, classification_report\n",
        "cm = confusion_matrix(y_test, y_pred)\n",
        "accuracy_score(y_test, y_pred)\n",
        "print(classification_report(y_test, y_pred))\n",
        "sns.heatmap(cm, annot=True, fmt=\"d\")"
      ],
      "execution_count": 13,
      "outputs": [
        {
          "output_type": "stream",
          "text": [
            "              precision    recall  f1-score   support\n",
            "\n",
            "           0       0.77      0.77      0.77      5072\n",
            "           1       0.76      0.77      0.77      4928\n",
            "\n",
            "    accuracy                           0.77     10000\n",
            "   macro avg       0.77      0.77      0.77     10000\n",
            "weighted avg       0.77      0.77      0.77     10000\n",
            "\n"
          ],
          "name": "stdout"
        },
        {
          "output_type": "execute_result",
          "data": {
            "text/plain": [
              "<matplotlib.axes._subplots.AxesSubplot at 0x7f978a1b2e10>"
            ]
          },
          "metadata": {
            "tags": []
          },
          "execution_count": 13
        },
        {
          "output_type": "display_data",
          "data": {
            "image/png": "[encoded data removed]",
            "text/plain": [
              "<Figure size 432x288 with 2 Axes>"
            ]
          },
          "metadata": {
            "tags": [],
            "needs_background": "light"
          }
        }
      ]
    },
    {
      "cell_type": "markdown",
      "metadata": {
        "id": "NDV1122aPOLD"
      },
      "source": [
        "## 10) Using K-Fold cross Validation"
      ]
    },
    {
      "cell_type": "code",
      "metadata": {
        "colab": {
          "base_uri": "https://localhost:8080/"
        },
        "id": "FYva0LqvPgZx",
        "outputId": "c0cb622b-6a2d-4579-a27c-16811f3775cf"
      },
      "source": [
        "from sklearn.model_selection import cross_val_score\n",
        "accuracies = cross_val_score(estimator=classifier, X=X_train, y=y_train, cv=10)\n",
        "print(\"Logistic Accuracy: %0.3f (+/- %0.3f)\" %(accuracies.mean(), accuracies.std()*2))"
      ],
      "execution_count": 16,
      "outputs": [
        {
          "output_type": "stream",
          "text": [
            "Logistic Accuracy: 0.767 (+/- 0.009)\n"
          ],
          "name": "stdout"
        }
      ]
    },
    {
      "cell_type": "markdown",
      "metadata": {
        "id": "H8WwSFDTQzhj"
      },
      "source": [
        "## 11) Formatting the Final Results"
      ]
    },
    {
      "cell_type": "code",
      "metadata": {
        "colab": {
          "base_uri": "https://localhost:8080/",
          "height": 406
        },
        "id": "LOljNZcdRDM6",
        "outputId": "f0d4bf9f-cc0d-46e5-e7f3-f2b7fc8b1859"
      },
      "source": [
        "final_results = pd.concat([y_test, test_identifer], axis=1).dropna()\n",
        "final_results['predicted_results'] = y_pred\n",
        "final_results[['user', 'enrolled', 'predicted_results']].reset_index(drop=True)"
      ],
      "execution_count": 17,
      "outputs": [
        {
          "output_type": "execute_result",
          "data": {
            "text/html": [
              "<div>\n",
              "<style scoped>\n",
              "    .dataframe tbody tr th:only-of-type {\n",
              "        vertical-align: middle;\n",
              "    }\n",
              "\n",
              "    .dataframe tbody tr th {\n",
              "        vertical-align: top;\n",
              "    }\n",
              "\n",
              "    .dataframe thead th {\n",
              "        text-align: right;\n",
              "    }\n",
              "</style>\n",
              "<table border=\"1\" class=\"dataframe\">\n",
              "  <thead>\n",
              "    <tr style=\"text-align: right;\">\n",
              "      <th></th>\n",
              "      <th>user</th>\n",
              "      <th>enrolled</th>\n",
              "      <th>predicted_results</th>\n",
              "    </tr>\n",
              "  </thead>\n",
              "  <tbody>\n",
              "    <tr>\n",
              "      <th>0</th>\n",
              "      <td>239786</td>\n",
              "      <td>1</td>\n",
              "      <td>1</td>\n",
              "    </tr>\n",
              "    <tr>\n",
              "      <th>1</th>\n",
              "      <td>279644</td>\n",
              "      <td>1</td>\n",
              "      <td>1</td>\n",
              "    </tr>\n",
              "    <tr>\n",
              "      <th>2</th>\n",
              "      <td>98290</td>\n",
              "      <td>0</td>\n",
              "      <td>0</td>\n",
              "    </tr>\n",
              "    <tr>\n",
              "      <th>3</th>\n",
              "      <td>170150</td>\n",
              "      <td>1</td>\n",
              "      <td>1</td>\n",
              "    </tr>\n",
              "    <tr>\n",
              "      <th>4</th>\n",
              "      <td>237568</td>\n",
              "      <td>1</td>\n",
              "      <td>1</td>\n",
              "    </tr>\n",
              "    <tr>\n",
              "      <th>...</th>\n",
              "      <td>...</td>\n",
              "      <td>...</td>\n",
              "      <td>...</td>\n",
              "    </tr>\n",
              "    <tr>\n",
              "      <th>9995</th>\n",
              "      <td>143036</td>\n",
              "      <td>1</td>\n",
              "      <td>0</td>\n",
              "    </tr>\n",
              "    <tr>\n",
              "      <th>9996</th>\n",
              "      <td>91158</td>\n",
              "      <td>1</td>\n",
              "      <td>1</td>\n",
              "    </tr>\n",
              "    <tr>\n",
              "      <th>9997</th>\n",
              "      <td>248318</td>\n",
              "      <td>0</td>\n",
              "      <td>0</td>\n",
              "    </tr>\n",
              "    <tr>\n",
              "      <th>9998</th>\n",
              "      <td>142418</td>\n",
              "      <td>1</td>\n",
              "      <td>1</td>\n",
              "    </tr>\n",
              "    <tr>\n",
              "      <th>9999</th>\n",
              "      <td>279355</td>\n",
              "      <td>1</td>\n",
              "      <td>1</td>\n",
              "    </tr>\n",
              "  </tbody>\n",
              "</table>\n",
              "<p>10000 rows × 3 columns</p>\n",
              "</div>"
            ],
            "text/plain": [
              "        user  enrolled  predicted_results\n",
              "0     239786         1                  1\n",
              "1     279644         1                  1\n",
              "2      98290         0                  0\n",
              "3     170150         1                  1\n",
              "4     237568         1                  1\n",
              "...      ...       ...                ...\n",
              "9995  143036         1                  0\n",
              "9996   91158         1                  1\n",
              "9997  248318         0                  0\n",
              "9998  142418         1                  1\n",
              "9999  279355         1                  1\n",
              "\n",
              "[10000 rows x 3 columns]"
            ]
          },
          "metadata": {
            "tags": []
          },
          "execution_count": 17
        }
      ]
    }
  ]
}