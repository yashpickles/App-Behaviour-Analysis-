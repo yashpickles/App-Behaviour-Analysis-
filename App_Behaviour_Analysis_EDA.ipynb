{
  "nbformat": 4,
  "nbformat_minor": 0,
  "metadata": {
    "colab": {
      "name": "App Behaviour Analysis EDA.ipynb",
      "provenance": [],
      "collapsed_sections": [],
      "toc_visible": true,
      "authorship_tag": "ABX9TyNm1FvjBNZoZjHTKiBscX9M",
      "include_colab_link": true
    },
    "kernelspec": {
      "name": "python3",
      "display_name": "Python 3"
    }
  },
  "cells": [
    {
      "cell_type": "markdown",
      "metadata": {
        "id": "view-in-github",
        "colab_type": "text"
      },
      "source": [
        "<a href=\"https://colab.research.google.com/github/yashpickles/App-Behaviour-Analysis-/blob/main/App_Behaviour_Analysis_EDA.ipynb\" target=\"_parent\"><img src=\"https://colab.research.google.com/assets/colab-badge.svg\" alt=\"Open In Colab\"/></a>"
      ]
    },
    {
      "cell_type": "markdown",
      "metadata": {
        "id": "WVixuCQz6fKv"
      },
      "source": [
        "# **Case Study: Directing Customers to Subscription through App behaviour Analysis**\n",
        "###**-Yash Acharya**"
      ]
    },
    {
      "cell_type": "markdown",
      "metadata": {
        "id": "h4lpos_e7Mw3"
      },
      "source": [
        "## 1) Problem Statement"
      ]
    },
    {
      "cell_type": "markdown",
      "metadata": {
        "id": "ZrigdU7H8hEw"
      },
      "source": [
        "Here, we are working on financial application data and predicting the customer who will take the Premium services of the app or not. In accordance, the company will take action on the customers to give the offers or not.\n",
        "\n",
        "**About App:**\n",
        "A Financial Technology company (Fin-Tech Company) launches their mobile application. This app is used for financial purposes like Bank loans, Savings, etc. all at one place. It has two versions, free and premium. The free version contains basic features and if customer wants to use the Premium features then they have to pay a certain amount to unlock it.\n",
        "\n",
        "The main goal of the company is to sell the Premium version of the app with low advertisement cost but they haven't found out the way to do it. That’s the reason they provid the Premium features in the free version app for 24 hours to collect the customer’s behavior.\n",
        "\n",
        "**About the Dataset:**\n",
        "\n",
        "*   user: Unique ID for each user.\n",
        "*   first_open: Date (yy-mm-dd) and time (Hour:Minute:Seconds:Milliseconds) of login on app first time.\n",
        "*   dayofweek: On which day user logon.\n",
        "0: Sunday\n",
        "1: Monday\n",
        "2: Tuesday\n",
        "3: Wednesday\n",
        "4: Thursday\n",
        "5: Friday\n",
        "6: Saturday\n",
        "*   Hour: Time of a day in 24-hour format customer logon. It is correlated with dayofweek column. \n",
        "*   age: The age of the registered user.\n",
        "*   screen_list: The name of multiple screens seen by customers, which are separated by a comma.\n",
        "*   numscreens: The total number of screens seen by customers.\n",
        "*   minigame: Tha app contains small games related to finance. If the customer played mini-game then 1 otherwise 0.\n",
        "*   used_premium_feature: If the customer used the premium feature of the app then 1 otherwise 0.\n",
        "*   enrolled: If the user bought a premium feature app then 1 otherwise 0.\n",
        "*    enrolled_date: On the date (yy-mm-dd) and time (Hour:Minute:Seconds:Milliseconds) the user bought a premium features app.\n",
        "*   liked: The each screen of the app has a like button if the customer likes it then 1 otherwise 0.\n",
        "\n",
        "\n",
        "\n",
        "\n",
        "\n",
        "\n",
        "\n",
        "\n",
        "\n",
        "\n",
        "\n",
        "\n",
        "\n",
        "\n",
        "\n",
        "\n",
        "\n",
        "\n",
        "\n",
        "\n",
        "\n",
        " \n",
        "\n",
        "\n",
        "\n",
        " \n",
        "\n"
      ]
    },
    {
      "cell_type": "markdown",
      "metadata": {
        "id": "ZPYfo8HuB-j_"
      },
      "source": [
        "## 2) Importing the Libraries"
      ]
    },
    {
      "cell_type": "code",
      "metadata": {
        "id": "2_T66MTNCvt4"
      },
      "source": [
        "import numpy as np\n",
        "import pandas as pd\n",
        "import matplotlib.pyplot as plt\n",
        "import seaborn as sns\n",
        "from dateutil import parser"
      ],
      "execution_count": 1,
      "outputs": []
    },
    {
      "cell_type": "markdown",
      "metadata": {
        "id": "79vCgVfgDI-4"
      },
      "source": [
        "## 3) Importing the Dataset"
      ]
    },
    {
      "cell_type": "code",
      "metadata": {
        "id": "vZpTUAKCDPml"
      },
      "source": [
        "dataset = pd.read_csv('appdata10.csv')"
      ],
      "execution_count": 2,
      "outputs": []
    },
    {
      "cell_type": "markdown",
      "metadata": {
        "id": "-FGvM-7PDqx-"
      },
      "source": [
        "## 4) Visualization of the Dataset"
      ]
    },
    {
      "cell_type": "code",
      "metadata": {
        "colab": {
          "base_uri": "https://localhost:8080/",
          "height": 301
        },
        "id": "_SOTiBxvED9Q",
        "outputId": "a236b142-e28a-4422-d22e-e98a013bbe8c"
      },
      "source": [
        "dataset.head()"
      ],
      "execution_count": 3,
      "outputs": [
        {
          "output_type": "execute_result",
          "data": {
            "text/html": [
              "<div>\n",
              "<style scoped>\n",
              "    .dataframe tbody tr th:only-of-type {\n",
              "        vertical-align: middle;\n",
              "    }\n",
              "\n",
              "    .dataframe tbody tr th {\n",
              "        vertical-align: top;\n",
              "    }\n",
              "\n",
              "    .dataframe thead th {\n",
              "        text-align: right;\n",
              "    }\n",
              "</style>\n",
              "<table border=\"1\" class=\"dataframe\">\n",
              "  <thead>\n",
              "    <tr style=\"text-align: right;\">\n",
              "      <th></th>\n",
              "      <th>user</th>\n",
              "      <th>first_open</th>\n",
              "      <th>dayofweek</th>\n",
              "      <th>hour</th>\n",
              "      <th>age</th>\n",
              "      <th>screen_list</th>\n",
              "      <th>numscreens</th>\n",
              "      <th>minigame</th>\n",
              "      <th>used_premium_feature</th>\n",
              "      <th>enrolled</th>\n",
              "      <th>enrolled_date</th>\n",
              "      <th>liked</th>\n",
              "    </tr>\n",
              "  </thead>\n",
              "  <tbody>\n",
              "    <tr>\n",
              "      <th>0</th>\n",
              "      <td>235136</td>\n",
              "      <td>2012-12-27 02:14:51.273</td>\n",
              "      <td>3</td>\n",
              "      <td>02:00:00</td>\n",
              "      <td>23</td>\n",
              "      <td>idscreen,joinscreen,Cycle,product_review,ScanP...</td>\n",
              "      <td>15</td>\n",
              "      <td>0</td>\n",
              "      <td>0</td>\n",
              "      <td>0</td>\n",
              "      <td>NaN</td>\n",
              "      <td>0</td>\n",
              "    </tr>\n",
              "    <tr>\n",
              "      <th>1</th>\n",
              "      <td>333588</td>\n",
              "      <td>2012-12-02 01:16:00.905</td>\n",
              "      <td>6</td>\n",
              "      <td>01:00:00</td>\n",
              "      <td>24</td>\n",
              "      <td>joinscreen,product_review,product_review2,Scan...</td>\n",
              "      <td>13</td>\n",
              "      <td>0</td>\n",
              "      <td>0</td>\n",
              "      <td>0</td>\n",
              "      <td>NaN</td>\n",
              "      <td>0</td>\n",
              "    </tr>\n",
              "    <tr>\n",
              "      <th>2</th>\n",
              "      <td>254414</td>\n",
              "      <td>2013-03-19 19:19:09.157</td>\n",
              "      <td>1</td>\n",
              "      <td>19:00:00</td>\n",
              "      <td>23</td>\n",
              "      <td>Splash,Cycle,Loan</td>\n",
              "      <td>3</td>\n",
              "      <td>0</td>\n",
              "      <td>1</td>\n",
              "      <td>0</td>\n",
              "      <td>NaN</td>\n",
              "      <td>1</td>\n",
              "    </tr>\n",
              "    <tr>\n",
              "      <th>3</th>\n",
              "      <td>234192</td>\n",
              "      <td>2013-07-05 16:08:46.354</td>\n",
              "      <td>4</td>\n",
              "      <td>16:00:00</td>\n",
              "      <td>28</td>\n",
              "      <td>product_review,Home,product_review,Loan3,Finan...</td>\n",
              "      <td>40</td>\n",
              "      <td>0</td>\n",
              "      <td>0</td>\n",
              "      <td>1</td>\n",
              "      <td>2013-07-05 16:11:49.513</td>\n",
              "      <td>0</td>\n",
              "    </tr>\n",
              "    <tr>\n",
              "      <th>4</th>\n",
              "      <td>51549</td>\n",
              "      <td>2013-02-26 18:50:48.661</td>\n",
              "      <td>1</td>\n",
              "      <td>18:00:00</td>\n",
              "      <td>31</td>\n",
              "      <td>idscreen,joinscreen,Cycle,Credit3Container,Sca...</td>\n",
              "      <td>32</td>\n",
              "      <td>0</td>\n",
              "      <td>0</td>\n",
              "      <td>1</td>\n",
              "      <td>2013-02-26 18:56:37.841</td>\n",
              "      <td>1</td>\n",
              "    </tr>\n",
              "  </tbody>\n",
              "</table>\n",
              "</div>"
            ],
            "text/plain": [
              "     user               first_open  ...            enrolled_date liked\n",
              "0  235136  2012-12-27 02:14:51.273  ...                      NaN     0\n",
              "1  333588  2012-12-02 01:16:00.905  ...                      NaN     0\n",
              "2  254414  2013-03-19 19:19:09.157  ...                      NaN     1\n",
              "3  234192  2013-07-05 16:08:46.354  ...  2013-07-05 16:11:49.513     0\n",
              "4   51549  2013-02-26 18:50:48.661  ...  2013-02-26 18:56:37.841     1\n",
              "\n",
              "[5 rows x 12 columns]"
            ]
          },
          "metadata": {
            "tags": []
          },
          "execution_count": 3
        }
      ]
    },
    {
      "cell_type": "code",
      "metadata": {
        "colab": {
          "base_uri": "https://localhost:8080/",
          "height": 301
        },
        "id": "qpwWBLK-EJMA",
        "outputId": "06bad851-3901-4247-8034-616ca28038a8"
      },
      "source": [
        "dataset.tail()"
      ],
      "execution_count": 4,
      "outputs": [
        {
          "output_type": "execute_result",
          "data": {
            "text/html": [
              "<div>\n",
              "<style scoped>\n",
              "    .dataframe tbody tr th:only-of-type {\n",
              "        vertical-align: middle;\n",
              "    }\n",
              "\n",
              "    .dataframe tbody tr th {\n",
              "        vertical-align: top;\n",
              "    }\n",
              "\n",
              "    .dataframe thead th {\n",
              "        text-align: right;\n",
              "    }\n",
              "</style>\n",
              "<table border=\"1\" class=\"dataframe\">\n",
              "  <thead>\n",
              "    <tr style=\"text-align: right;\">\n",
              "      <th></th>\n",
              "      <th>user</th>\n",
              "      <th>first_open</th>\n",
              "      <th>dayofweek</th>\n",
              "      <th>hour</th>\n",
              "      <th>age</th>\n",
              "      <th>screen_list</th>\n",
              "      <th>numscreens</th>\n",
              "      <th>minigame</th>\n",
              "      <th>used_premium_feature</th>\n",
              "      <th>enrolled</th>\n",
              "      <th>enrolled_date</th>\n",
              "      <th>liked</th>\n",
              "    </tr>\n",
              "  </thead>\n",
              "  <tbody>\n",
              "    <tr>\n",
              "      <th>49995</th>\n",
              "      <td>222774</td>\n",
              "      <td>2013-05-09 13:46:17.871</td>\n",
              "      <td>3</td>\n",
              "      <td>13:00:00</td>\n",
              "      <td>32</td>\n",
              "      <td>Splash,Home,ScanPreview,VerifyPhone,VerifySSN,...</td>\n",
              "      <td>13</td>\n",
              "      <td>0</td>\n",
              "      <td>0</td>\n",
              "      <td>1</td>\n",
              "      <td>2013-05-09 13:47:52.875</td>\n",
              "      <td>0</td>\n",
              "    </tr>\n",
              "    <tr>\n",
              "      <th>49996</th>\n",
              "      <td>169179</td>\n",
              "      <td>2013-04-09 00:05:17.823</td>\n",
              "      <td>1</td>\n",
              "      <td>00:00:00</td>\n",
              "      <td>35</td>\n",
              "      <td>Cycle,Splash,Home,RewardsContainer</td>\n",
              "      <td>4</td>\n",
              "      <td>0</td>\n",
              "      <td>1</td>\n",
              "      <td>0</td>\n",
              "      <td>NaN</td>\n",
              "      <td>0</td>\n",
              "    </tr>\n",
              "    <tr>\n",
              "      <th>49997</th>\n",
              "      <td>302367</td>\n",
              "      <td>2013-02-20 22:41:51.165</td>\n",
              "      <td>2</td>\n",
              "      <td>22:00:00</td>\n",
              "      <td>39</td>\n",
              "      <td>joinscreen,product_review,product_review2,Scan...</td>\n",
              "      <td>25</td>\n",
              "      <td>0</td>\n",
              "      <td>0</td>\n",
              "      <td>0</td>\n",
              "      <td>NaN</td>\n",
              "      <td>0</td>\n",
              "    </tr>\n",
              "    <tr>\n",
              "      <th>49998</th>\n",
              "      <td>324905</td>\n",
              "      <td>2013-04-28 12:33:04.288</td>\n",
              "      <td>6</td>\n",
              "      <td>12:00:00</td>\n",
              "      <td>27</td>\n",
              "      <td>Cycle,Home,product_review,product_review,produ...</td>\n",
              "      <td>26</td>\n",
              "      <td>0</td>\n",
              "      <td>0</td>\n",
              "      <td>1</td>\n",
              "      <td>2013-04-28 12:35:38.709</td>\n",
              "      <td>0</td>\n",
              "    </tr>\n",
              "    <tr>\n",
              "      <th>49999</th>\n",
              "      <td>27047</td>\n",
              "      <td>2012-12-14 01:22:44.638</td>\n",
              "      <td>4</td>\n",
              "      <td>01:00:00</td>\n",
              "      <td>25</td>\n",
              "      <td>product_review,ScanPreview,VerifyDateOfBirth,V...</td>\n",
              "      <td>26</td>\n",
              "      <td>0</td>\n",
              "      <td>0</td>\n",
              "      <td>0</td>\n",
              "      <td>NaN</td>\n",
              "      <td>1</td>\n",
              "    </tr>\n",
              "  </tbody>\n",
              "</table>\n",
              "</div>"
            ],
            "text/plain": [
              "         user               first_open  ...            enrolled_date liked\n",
              "49995  222774  2013-05-09 13:46:17.871  ...  2013-05-09 13:47:52.875     0\n",
              "49996  169179  2013-04-09 00:05:17.823  ...                      NaN     0\n",
              "49997  302367  2013-02-20 22:41:51.165  ...                      NaN     0\n",
              "49998  324905  2013-04-28 12:33:04.288  ...  2013-04-28 12:35:38.709     0\n",
              "49999   27047  2012-12-14 01:22:44.638  ...                      NaN     1\n",
              "\n",
              "[5 rows x 12 columns]"
            ]
          },
          "metadata": {
            "tags": []
          },
          "execution_count": 4
        }
      ]
    },
    {
      "cell_type": "code",
      "metadata": {
        "colab": {
          "base_uri": "https://localhost:8080/",
          "height": 287
        },
        "id": "dfFA9gjKEMOW",
        "outputId": "71d00493-b1e4-45f2-beb8-9dd870e276c0"
      },
      "source": [
        "dataset.describe()"
      ],
      "execution_count": 5,
      "outputs": [
        {
          "output_type": "execute_result",
          "data": {
            "text/html": [
              "<div>\n",
              "<style scoped>\n",
              "    .dataframe tbody tr th:only-of-type {\n",
              "        vertical-align: middle;\n",
              "    }\n",
              "\n",
              "    .dataframe tbody tr th {\n",
              "        vertical-align: top;\n",
              "    }\n",
              "\n",
              "    .dataframe thead th {\n",
              "        text-align: right;\n",
              "    }\n",
              "</style>\n",
              "<table border=\"1\" class=\"dataframe\">\n",
              "  <thead>\n",
              "    <tr style=\"text-align: right;\">\n",
              "      <th></th>\n",
              "      <th>user</th>\n",
              "      <th>dayofweek</th>\n",
              "      <th>age</th>\n",
              "      <th>numscreens</th>\n",
              "      <th>minigame</th>\n",
              "      <th>used_premium_feature</th>\n",
              "      <th>enrolled</th>\n",
              "      <th>liked</th>\n",
              "    </tr>\n",
              "  </thead>\n",
              "  <tbody>\n",
              "    <tr>\n",
              "      <th>count</th>\n",
              "      <td>50000.000000</td>\n",
              "      <td>50000.000000</td>\n",
              "      <td>50000.00000</td>\n",
              "      <td>50000.000000</td>\n",
              "      <td>50000.000000</td>\n",
              "      <td>50000.000000</td>\n",
              "      <td>50000.000000</td>\n",
              "      <td>50000.000000</td>\n",
              "    </tr>\n",
              "    <tr>\n",
              "      <th>mean</th>\n",
              "      <td>186889.729900</td>\n",
              "      <td>3.029860</td>\n",
              "      <td>31.72436</td>\n",
              "      <td>21.095900</td>\n",
              "      <td>0.107820</td>\n",
              "      <td>0.172020</td>\n",
              "      <td>0.621480</td>\n",
              "      <td>0.165000</td>\n",
              "    </tr>\n",
              "    <tr>\n",
              "      <th>std</th>\n",
              "      <td>107768.520361</td>\n",
              "      <td>2.031997</td>\n",
              "      <td>10.80331</td>\n",
              "      <td>15.728812</td>\n",
              "      <td>0.310156</td>\n",
              "      <td>0.377402</td>\n",
              "      <td>0.485023</td>\n",
              "      <td>0.371184</td>\n",
              "    </tr>\n",
              "    <tr>\n",
              "      <th>min</th>\n",
              "      <td>13.000000</td>\n",
              "      <td>0.000000</td>\n",
              "      <td>16.00000</td>\n",
              "      <td>1.000000</td>\n",
              "      <td>0.000000</td>\n",
              "      <td>0.000000</td>\n",
              "      <td>0.000000</td>\n",
              "      <td>0.000000</td>\n",
              "    </tr>\n",
              "    <tr>\n",
              "      <th>25%</th>\n",
              "      <td>93526.750000</td>\n",
              "      <td>1.000000</td>\n",
              "      <td>24.00000</td>\n",
              "      <td>10.000000</td>\n",
              "      <td>0.000000</td>\n",
              "      <td>0.000000</td>\n",
              "      <td>0.000000</td>\n",
              "      <td>0.000000</td>\n",
              "    </tr>\n",
              "    <tr>\n",
              "      <th>50%</th>\n",
              "      <td>187193.500000</td>\n",
              "      <td>3.000000</td>\n",
              "      <td>29.00000</td>\n",
              "      <td>18.000000</td>\n",
              "      <td>0.000000</td>\n",
              "      <td>0.000000</td>\n",
              "      <td>1.000000</td>\n",
              "      <td>0.000000</td>\n",
              "    </tr>\n",
              "    <tr>\n",
              "      <th>75%</th>\n",
              "      <td>279984.250000</td>\n",
              "      <td>5.000000</td>\n",
              "      <td>37.00000</td>\n",
              "      <td>28.000000</td>\n",
              "      <td>0.000000</td>\n",
              "      <td>0.000000</td>\n",
              "      <td>1.000000</td>\n",
              "      <td>0.000000</td>\n",
              "    </tr>\n",
              "    <tr>\n",
              "      <th>max</th>\n",
              "      <td>373662.000000</td>\n",
              "      <td>6.000000</td>\n",
              "      <td>101.00000</td>\n",
              "      <td>325.000000</td>\n",
              "      <td>1.000000</td>\n",
              "      <td>1.000000</td>\n",
              "      <td>1.000000</td>\n",
              "      <td>1.000000</td>\n",
              "    </tr>\n",
              "  </tbody>\n",
              "</table>\n",
              "</div>"
            ],
            "text/plain": [
              "                user     dayofweek  ...      enrolled         liked\n",
              "count   50000.000000  50000.000000  ...  50000.000000  50000.000000\n",
              "mean   186889.729900      3.029860  ...      0.621480      0.165000\n",
              "std    107768.520361      2.031997  ...      0.485023      0.371184\n",
              "min        13.000000      0.000000  ...      0.000000      0.000000\n",
              "25%     93526.750000      1.000000  ...      0.000000      0.000000\n",
              "50%    187193.500000      3.000000  ...      1.000000      0.000000\n",
              "75%    279984.250000      5.000000  ...      1.000000      0.000000\n",
              "max    373662.000000      6.000000  ...      1.000000      1.000000\n",
              "\n",
              "[8 rows x 8 columns]"
            ]
          },
          "metadata": {
            "tags": []
          },
          "execution_count": 5
        }
      ]
    },
    {
      "cell_type": "code",
      "metadata": {
        "id": "m-Hy_R8AERRv"
      },
      "source": [
        "dataset[\"hour\"] = dataset.hour.str.slice(1, 3).astype(int)"
      ],
      "execution_count": 6,
      "outputs": []
    },
    {
      "cell_type": "code",
      "metadata": {
        "id": "_iVkVhcTGyd6"
      },
      "source": [
        "dataframe = dataset.copy().drop(columns = ['user', 'screen_list', 'enrolled_date', 'first_open', 'enrolled'])"
      ],
      "execution_count": 7,
      "outputs": []
    },
    {
      "cell_type": "code",
      "metadata": {
        "colab": {
          "base_uri": "https://localhost:8080/",
          "height": 197
        },
        "id": "FjTLln-TIRHz",
        "outputId": "78dfa189-78de-4741-ebde-fd6f78a52e93"
      },
      "source": [
        "dataframe.head()"
      ],
      "execution_count": 8,
      "outputs": [
        {
          "output_type": "execute_result",
          "data": {
            "text/html": [
              "<div>\n",
              "<style scoped>\n",
              "    .dataframe tbody tr th:only-of-type {\n",
              "        vertical-align: middle;\n",
              "    }\n",
              "\n",
              "    .dataframe tbody tr th {\n",
              "        vertical-align: top;\n",
              "    }\n",
              "\n",
              "    .dataframe thead th {\n",
              "        text-align: right;\n",
              "    }\n",
              "</style>\n",
              "<table border=\"1\" class=\"dataframe\">\n",
              "  <thead>\n",
              "    <tr style=\"text-align: right;\">\n",
              "      <th></th>\n",
              "      <th>dayofweek</th>\n",
              "      <th>hour</th>\n",
              "      <th>age</th>\n",
              "      <th>numscreens</th>\n",
              "      <th>minigame</th>\n",
              "      <th>used_premium_feature</th>\n",
              "      <th>liked</th>\n",
              "    </tr>\n",
              "  </thead>\n",
              "  <tbody>\n",
              "    <tr>\n",
              "      <th>0</th>\n",
              "      <td>3</td>\n",
              "      <td>2</td>\n",
              "      <td>23</td>\n",
              "      <td>15</td>\n",
              "      <td>0</td>\n",
              "      <td>0</td>\n",
              "      <td>0</td>\n",
              "    </tr>\n",
              "    <tr>\n",
              "      <th>1</th>\n",
              "      <td>6</td>\n",
              "      <td>1</td>\n",
              "      <td>24</td>\n",
              "      <td>13</td>\n",
              "      <td>0</td>\n",
              "      <td>0</td>\n",
              "      <td>0</td>\n",
              "    </tr>\n",
              "    <tr>\n",
              "      <th>2</th>\n",
              "      <td>1</td>\n",
              "      <td>19</td>\n",
              "      <td>23</td>\n",
              "      <td>3</td>\n",
              "      <td>0</td>\n",
              "      <td>1</td>\n",
              "      <td>1</td>\n",
              "    </tr>\n",
              "    <tr>\n",
              "      <th>3</th>\n",
              "      <td>4</td>\n",
              "      <td>16</td>\n",
              "      <td>28</td>\n",
              "      <td>40</td>\n",
              "      <td>0</td>\n",
              "      <td>0</td>\n",
              "      <td>0</td>\n",
              "    </tr>\n",
              "    <tr>\n",
              "      <th>4</th>\n",
              "      <td>1</td>\n",
              "      <td>18</td>\n",
              "      <td>31</td>\n",
              "      <td>32</td>\n",
              "      <td>0</td>\n",
              "      <td>0</td>\n",
              "      <td>1</td>\n",
              "    </tr>\n",
              "  </tbody>\n",
              "</table>\n",
              "</div>"
            ],
            "text/plain": [
              "   dayofweek  hour  age  numscreens  minigame  used_premium_feature  liked\n",
              "0          3     2   23          15         0                     0      0\n",
              "1          6     1   24          13         0                     0      0\n",
              "2          1    19   23           3         0                     1      1\n",
              "3          4    16   28          40         0                     0      0\n",
              "4          1    18   31          32         0                     0      1"
            ]
          },
          "metadata": {
            "tags": []
          },
          "execution_count": 8
        }
      ]
    },
    {
      "cell_type": "markdown",
      "metadata": {
        "id": "82tTdI2ZIl6B"
      },
      "source": [
        "## 4.a) Creating a Histogram"
      ]
    },
    {
      "cell_type": "code",
      "metadata": {
        "colab": {
          "base_uri": "https://localhost:8080/",
          "height": 294
        },
        "id": "n1hc4MxhIuuh",
        "outputId": "15a3a479-9c25-4937-e986-f4074b92b559"
      },
      "source": [
        "plt.suptitle('Histogram of numerical Columns', fontsize=0.5)\n",
        "for i in range(1, dataframe.shape[1]+1):\n",
        "  plt.subplot(3, 3, i)\n",
        "  f = plt.gca()\n",
        "  f.set_title(dataframe.columns.values[i-1])\n",
        "  vals = np.size(dataframe.iloc[:, i-1].unique())\n",
        "  plt.hist(dataframe.iloc[:, i-1], bins= vals, color='#3F5D7D') "
      ],
      "execution_count": 9,
      "outputs": [
        {
          "output_type": "display_data",
          "data": {
            "image/png": "[encoded data removed]",
            "text/plain": [
              "<Figure size 432x288 with 7 Axes>"
            ]
          },
          "metadata": {
            "tags": [],
            "needs_background": "light"
          }
        }
      ]
    },
    {
      "cell_type": "markdown",
      "metadata": {
        "id": "uzhMf9KwRaCJ"
      },
      "source": [
        "## 4.b) Correlating the Dataset and the Dataframe"
      ]
    },
    {
      "cell_type": "code",
      "metadata": {
        "colab": {
          "base_uri": "https://localhost:8080/",
          "height": 697
        },
        "id": "2QX1iDUoRo9e",
        "outputId": "00eb3036-c355-4eb6-94ba-a541546581f9"
      },
      "source": [
        "dataframe.corrwith(dataset.enrolled).plot.bar(figsize = (20, 10), \n",
        "                                              title = 'Correlation with Response variable', \n",
        "                                              fontsize=15, rot=45, \n",
        "                                              grid=True)"
      ],
      "execution_count": 10,
      "outputs": [
        {
          "output_type": "execute_result",
          "data": {
            "text/plain": [
              "<matplotlib.axes._subplots.AxesSubplot at 0x7f0d5f496080>"
            ]
          },
          "metadata": {
            "tags": []
          },
          "execution_count": 10
        },
        {
          "output_type": "display_data",
          "data": {
            "image/png": "[encoded data removed]",
            "text/plain": [
              "<Figure size 1440x720 with 1 Axes>"
            ]
          },
          "metadata": {
            "tags": [],
            "needs_background": "light"
          }
        }
      ]
    },
    {
      "cell_type": "markdown",
      "metadata": {
        "id": "IGFtWHi_aDaq"
      },
      "source": [
        "## 4.c) Creating a Correlation Matrix"
      ]
    },
    {
      "cell_type": "code",
      "metadata": {
        "id": "zTU3dn3MaNDm"
      },
      "source": [
        "sns.set(style=\"white\", font_scale=2)"
      ],
      "execution_count": 11,
      "outputs": []
    },
    {
      "cell_type": "code",
      "metadata": {
        "id": "Zj9kvrN1bQxW"
      },
      "source": [
        "corr = dataframe.corr()"
      ],
      "execution_count": 12,
      "outputs": []
    },
    {
      "cell_type": "code",
      "metadata": {
        "id": "ZrQ_NyrUbXTW"
      },
      "source": [
        "mask = np.zeros_like(corr, dtype=np.bool)\n",
        "mask[np.triu_indices_from(mask)] = True"
      ],
      "execution_count": 13,
      "outputs": []
    },
    {
      "cell_type": "code",
      "metadata": {
        "id": "U572yh6gbvPW"
      },
      "source": [
        "f, ax = plt.subplots(figsize = (30, 20))\n",
        "f.suptitle(\"Correlation Matrix\", fontsize = 40)"
      ],
      "execution_count": null,
      "outputs": []
    },
    {
      "cell_type": "code",
      "metadata": {
        "id": "o0jtBRC3cWuG"
      },
      "source": [
        "cmap = sns.diverging_palette(220, 10, as_cmap=True)"
      ],
      "execution_count": 15,
      "outputs": []
    },
    {
      "cell_type": "code",
      "metadata": {
        "colab": {
          "base_uri": "https://localhost:8080/",
          "height": 528
        },
        "id": "q1tnW4ekcnLu",
        "outputId": "35846366-2a69-40cf-f7be-090cec828970"
      },
      "source": [
        "sns.heatmap(corr, mask=mask, cmap=cmap, vmax=0.3, center=0, square=True, linewidths=0.5, cbar_kws={\"shrink\":0.5})"
      ],
      "execution_count": 16,
      "outputs": [
        {
          "output_type": "execute_result",
          "data": {
            "text/plain": [
              "<matplotlib.axes._subplots.AxesSubplot at 0x7f0d5ee65940>"
            ]
          },
          "metadata": {
            "tags": []
          },
          "execution_count": 16
        },
        {
          "output_type": "display_data",
          "data": {
            "image/png": "[encoded data removed]",
            "text/plain": [
              "<Figure size 432x288 with 2 Axes>"
            ]
          },
          "metadata": {
            "tags": []
          }
        }
      ]
    },
    {
      "cell_type": "markdown",
      "metadata": {
        "id": "UMJHiXQjnhNX"
      },
      "source": [
        "## 5) Training The Model"
      ]
    },
    {
      "cell_type": "markdown",
      "metadata": {
        "id": "zvHjvDZrotR2"
      },
      "source": [
        "## 5.a) Cleaning the Dataset"
      ]
    },
    {
      "cell_type": "code",
      "metadata": {
        "id": "0tv2h0oOpHXe",
        "colab": {
          "base_uri": "https://localhost:8080/"
        },
        "outputId": "fbd2fa06-ebba-47e9-d62e-f54ca6f72ec4"
      },
      "source": [
        "dataset.dtypes"
      ],
      "execution_count": 17,
      "outputs": [
        {
          "output_type": "execute_result",
          "data": {
            "text/plain": [
              "user                     int64\n",
              "first_open              object\n",
              "dayofweek                int64\n",
              "hour                     int64\n",
              "age                      int64\n",
              "screen_list             object\n",
              "numscreens               int64\n",
              "minigame                 int64\n",
              "used_premium_feature     int64\n",
              "enrolled                 int64\n",
              "enrolled_date           object\n",
              "liked                    int64\n",
              "dtype: object"
            ]
          },
          "metadata": {
            "tags": []
          },
          "execution_count": 17
        }
      ]
    },
    {
      "cell_type": "code",
      "metadata": {
        "id": "ikHYVtnuku22"
      },
      "source": [
        "dataset[\"first_open\"] = [parser.parse(row_data) for row_data in dataset[\"first_open\"]]"
      ],
      "execution_count": 18,
      "outputs": []
    },
    {
      "cell_type": "code",
      "metadata": {
        "id": "GzOlpF5Clncr"
      },
      "source": [
        "dataset[\"enrolled_date\"] = [parser.parse(row_data) if isinstance(row_data, str) else row_data for row_data in dataset[\"enrolled_date\"]]"
      ],
      "execution_count": 19,
      "outputs": []
    },
    {
      "cell_type": "code",
      "metadata": {
        "id": "PEC3OBkWmbjk"
      },
      "source": [
        "dataset[\"difference\"] = (dataset.enrolled_date - dataset.first_open).astype('timedelta64[h]')"
      ],
      "execution_count": 20,
      "outputs": []
    },
    {
      "cell_type": "code",
      "metadata": {
        "colab": {
          "base_uri": "https://localhost:8080/",
          "height": 303
        },
        "id": "VszalqeSn8h9",
        "outputId": "ad7412ab-1fd4-4338-8bfb-2162e8ecc00d"
      },
      "source": [
        "plt.hist(dataset[\"difference\"].dropna(), color='#3F5D7D')\n",
        "plt.title('Distribution of Time-Since-Enrolled')\n",
        "plt.show()"
      ],
      "execution_count": 21,
      "outputs": [
        {
          "output_type": "display_data",
          "data": {
            "image/png": "[encoded data removed]",
            "text/plain": [
              "<Figure size 432x288 with 1 Axes>"
            ]
          },
          "metadata": {
            "tags": []
          }
        }
      ]
    },
    {
      "cell_type": "code",
      "metadata": {
        "colab": {
          "base_uri": "https://localhost:8080/",
          "height": 303
        },
        "id": "5_4D7mooopD-",
        "outputId": "2130d117-c4fc-4606-905b-7ad55114b744"
      },
      "source": [
        "plt.hist(dataset[\"difference\"].dropna(), color='#3F5D7D', range=[0, 100])\n",
        "plt.title('Distribution of Time-Since-Enrolled')\n",
        "plt.show()\n"
      ],
      "execution_count": 22,
      "outputs": [
        {
          "output_type": "display_data",
          "data": {
            "image/png": "[encoded data removed]",
            "text/plain": [
              "<Figure size 432x288 with 1 Axes>"
            ]
          },
          "metadata": {
            "tags": []
          }
        }
      ]
    },
    {
      "cell_type": "code",
      "metadata": {
        "id": "2dIJwnCVx77e"
      },
      "source": [
        "dataset.loc[dataset.difference > 48, 'enrolled'] = 0"
      ],
      "execution_count": 26,
      "outputs": []
    },
    {
      "cell_type": "code",
      "metadata": {
        "id": "oSvkf5gOr9sc"
      },
      "source": [
        "dataset = dataset.drop(columns=['difference', 'enrolled_date', 'first_open'])"
      ],
      "execution_count": 27,
      "outputs": []
    },
    {
      "cell_type": "markdown",
      "metadata": {
        "id": "9AIDM4SGxdSp"
      },
      "source": [
        "## 5.b) Formating the screen_list field"
      ]
    },
    {
      "cell_type": "code",
      "metadata": {
        "id": "5O5PIpR-xz95"
      },
      "source": [
        "top_screens = pd.read_csv('top_screens.csv').top_screens.values\n",
        "dataset[\"screen_list\"] = dataset.screen_list.astype(str) + ','\n",
        "for sc in top_screens:\n",
        "  dataset[sc] = dataset.screen_list.str.contains(sc).astype(int)\n",
        "  dataset[\"screen_list\"] = dataset.screen_list.str.replace(sc + \",\", \"\")\n",
        "\n",
        "\n",
        "dataset[\"other\"] = dataset.screen_list.str.count(\",\")\n",
        "dataset = dataset.drop(columns=[\"screen_list\"])   "
      ],
      "execution_count": 34,
      "outputs": []
    },
    {
      "cell_type": "markdown",
      "metadata": {
        "id": "jC-VksjAzsDR"
      },
      "source": [
        "## 5.c) Funneling and Saving in the new file"
      ]
    },
    {
      "cell_type": "code",
      "metadata": {
        "id": "ujUnqfuBz0G0"
      },
      "source": [
        "savings_screens = [\"Saving1\", \n",
        "                   \"Saving2\", \n",
        "                   \"Saving2Amount\",\n",
        "                   \"Saving4\",\n",
        "                   \"Saving5\",\n",
        "                   \"Saving6\",\n",
        "                   \"Saving7\", \n",
        "                   \"Saving8\",\n",
        "                   \"Saving9\",\n",
        "                   \"Saving10\"]\n",
        "dataset[\"SavingsCount\"] = dataset[savings_screens].sum(axis=1)\n",
        "dataset = dataset.drop(columns= savings_screens)                   "
      ],
      "execution_count": 37,
      "outputs": []
    },
    {
      "cell_type": "code",
      "metadata": {
        "id": "OPUtcExo1_5d"
      },
      "source": [
        "cm_screens = [\"Credit1\",\n",
        "               \"Credit2\",\n",
        "               \"Credit3\",\n",
        "               \"Credit3Container\",\n",
        "               \"Credit3Dashboard\"]\n",
        "dataset[\"CMCount\"] = dataset[cm_screens].sum(axis=1)\n",
        "dataset = dataset.drop(columns=cm_screens)\n",
        "\n",
        "cc_screens = [\"CC1\",\n",
        "                \"CC1Category\",\n",
        "                \"CC3\"]\n",
        "dataset[\"CCCount\"] = dataset[cc_screens].sum(axis=1)\n",
        "dataset = dataset.drop(columns=cc_screens)\n",
        "\n",
        "loan_screens = [\"Loan\",\n",
        "               \"Loan2\",\n",
        "               \"Loan3\",\n",
        "               \"Loan4\"]\n",
        "dataset[\"LoansCount\"] = dataset[loan_screens].sum(axis=1)\n",
        "dataset = dataset.drop(columns=loan_screens)\n"
      ],
      "execution_count": 39,
      "outputs": []
    },
    {
      "cell_type": "code",
      "metadata": {
        "colab": {
          "base_uri": "https://localhost:8080/",
          "height": 217
        },
        "id": "r1wY8iPh3ery",
        "outputId": "35d20617-6681-4bb3-e571-44715d427ea9"
      },
      "source": [
        "dataset.head()"
      ],
      "execution_count": 40,
      "outputs": [
        {
          "output_type": "execute_result",
          "data": {
            "text/html": [
              "<div>\n",
              "<style scoped>\n",
              "    .dataframe tbody tr th:only-of-type {\n",
              "        vertical-align: middle;\n",
              "    }\n",
              "\n",
              "    .dataframe tbody tr th {\n",
              "        vertical-align: top;\n",
              "    }\n",
              "\n",
              "    .dataframe thead th {\n",
              "        text-align: right;\n",
              "    }\n",
              "</style>\n",
              "<table border=\"1\" class=\"dataframe\">\n",
              "  <thead>\n",
              "    <tr style=\"text-align: right;\">\n",
              "      <th></th>\n",
              "      <th>user</th>\n",
              "      <th>dayofweek</th>\n",
              "      <th>hour</th>\n",
              "      <th>age</th>\n",
              "      <th>numscreens</th>\n",
              "      <th>minigame</th>\n",
              "      <th>used_premium_feature</th>\n",
              "      <th>enrolled</th>\n",
              "      <th>liked</th>\n",
              "      <th>location</th>\n",
              "      <th>Institutions</th>\n",
              "      <th>VerifyPhone</th>\n",
              "      <th>BankVerification</th>\n",
              "      <th>VerifyDateOfBirth</th>\n",
              "      <th>ProfilePage</th>\n",
              "      <th>VerifyCountry</th>\n",
              "      <th>Cycle</th>\n",
              "      <th>idscreen</th>\n",
              "      <th>Splash</th>\n",
              "      <th>RewardsContainer</th>\n",
              "      <th>EditProfile</th>\n",
              "      <th>Finances</th>\n",
              "      <th>Alerts</th>\n",
              "      <th>Leaderboard</th>\n",
              "      <th>VerifyMobile</th>\n",
              "      <th>VerifyHousing</th>\n",
              "      <th>RewardDetail</th>\n",
              "      <th>VerifyHousingAmount</th>\n",
              "      <th>ProfileMaritalStatus</th>\n",
              "      <th>ProfileChildren</th>\n",
              "      <th>ProfileEducation</th>\n",
              "      <th>ProfileEducationMajor</th>\n",
              "      <th>Rewards</th>\n",
              "      <th>AccountView</th>\n",
              "      <th>VerifyAnnualIncome</th>\n",
              "      <th>VerifyIncomeType</th>\n",
              "      <th>ProfileJobTitle</th>\n",
              "      <th>Login</th>\n",
              "      <th>ProfileEmploymentLength</th>\n",
              "      <th>WebView</th>\n",
              "      <th>SecurityModal</th>\n",
              "      <th>ResendToken</th>\n",
              "      <th>TransactionList</th>\n",
              "      <th>NetworkFailure</th>\n",
              "      <th>ListPicker</th>\n",
              "      <th>other</th>\n",
              "      <th>SavingsCount</th>\n",
              "      <th>CMCount</th>\n",
              "      <th>CCCount</th>\n",
              "      <th>LoansCount</th>\n",
              "    </tr>\n",
              "  </thead>\n",
              "  <tbody>\n",
              "    <tr>\n",
              "      <th>0</th>\n",
              "      <td>235136</td>\n",
              "      <td>3</td>\n",
              "      <td>2</td>\n",
              "      <td>23</td>\n",
              "      <td>15</td>\n",
              "      <td>0</td>\n",
              "      <td>0</td>\n",
              "      <td>0</td>\n",
              "      <td>0</td>\n",
              "      <td>0</td>\n",
              "      <td>0</td>\n",
              "      <td>1</td>\n",
              "      <td>0</td>\n",
              "      <td>1</td>\n",
              "      <td>0</td>\n",
              "      <td>0</td>\n",
              "      <td>1</td>\n",
              "      <td>1</td>\n",
              "      <td>0</td>\n",
              "      <td>0</td>\n",
              "      <td>0</td>\n",
              "      <td>0</td>\n",
              "      <td>0</td>\n",
              "      <td>0</td>\n",
              "      <td>0</td>\n",
              "      <td>0</td>\n",
              "      <td>0</td>\n",
              "      <td>0</td>\n",
              "      <td>0</td>\n",
              "      <td>0</td>\n",
              "      <td>0</td>\n",
              "      <td>0</td>\n",
              "      <td>0</td>\n",
              "      <td>0</td>\n",
              "      <td>0</td>\n",
              "      <td>0</td>\n",
              "      <td>0</td>\n",
              "      <td>1</td>\n",
              "      <td>0</td>\n",
              "      <td>0</td>\n",
              "      <td>0</td>\n",
              "      <td>0</td>\n",
              "      <td>0</td>\n",
              "      <td>0</td>\n",
              "      <td>0</td>\n",
              "      <td>7</td>\n",
              "      <td>0</td>\n",
              "      <td>0</td>\n",
              "      <td>0</td>\n",
              "      <td>1</td>\n",
              "    </tr>\n",
              "    <tr>\n",
              "      <th>1</th>\n",
              "      <td>333588</td>\n",
              "      <td>6</td>\n",
              "      <td>1</td>\n",
              "      <td>24</td>\n",
              "      <td>13</td>\n",
              "      <td>0</td>\n",
              "      <td>0</td>\n",
              "      <td>0</td>\n",
              "      <td>0</td>\n",
              "      <td>1</td>\n",
              "      <td>1</td>\n",
              "      <td>1</td>\n",
              "      <td>0</td>\n",
              "      <td>1</td>\n",
              "      <td>0</td>\n",
              "      <td>1</td>\n",
              "      <td>0</td>\n",
              "      <td>0</td>\n",
              "      <td>0</td>\n",
              "      <td>0</td>\n",
              "      <td>0</td>\n",
              "      <td>0</td>\n",
              "      <td>0</td>\n",
              "      <td>0</td>\n",
              "      <td>0</td>\n",
              "      <td>0</td>\n",
              "      <td>0</td>\n",
              "      <td>0</td>\n",
              "      <td>0</td>\n",
              "      <td>0</td>\n",
              "      <td>0</td>\n",
              "      <td>0</td>\n",
              "      <td>0</td>\n",
              "      <td>0</td>\n",
              "      <td>0</td>\n",
              "      <td>0</td>\n",
              "      <td>0</td>\n",
              "      <td>0</td>\n",
              "      <td>0</td>\n",
              "      <td>0</td>\n",
              "      <td>0</td>\n",
              "      <td>0</td>\n",
              "      <td>0</td>\n",
              "      <td>0</td>\n",
              "      <td>0</td>\n",
              "      <td>5</td>\n",
              "      <td>0</td>\n",
              "      <td>0</td>\n",
              "      <td>0</td>\n",
              "      <td>1</td>\n",
              "    </tr>\n",
              "    <tr>\n",
              "      <th>2</th>\n",
              "      <td>254414</td>\n",
              "      <td>1</td>\n",
              "      <td>19</td>\n",
              "      <td>23</td>\n",
              "      <td>3</td>\n",
              "      <td>0</td>\n",
              "      <td>1</td>\n",
              "      <td>0</td>\n",
              "      <td>1</td>\n",
              "      <td>0</td>\n",
              "      <td>0</td>\n",
              "      <td>0</td>\n",
              "      <td>0</td>\n",
              "      <td>0</td>\n",
              "      <td>0</td>\n",
              "      <td>0</td>\n",
              "      <td>1</td>\n",
              "      <td>0</td>\n",
              "      <td>1</td>\n",
              "      <td>0</td>\n",
              "      <td>0</td>\n",
              "      <td>0</td>\n",
              "      <td>0</td>\n",
              "      <td>0</td>\n",
              "      <td>0</td>\n",
              "      <td>0</td>\n",
              "      <td>0</td>\n",
              "      <td>0</td>\n",
              "      <td>0</td>\n",
              "      <td>0</td>\n",
              "      <td>0</td>\n",
              "      <td>0</td>\n",
              "      <td>0</td>\n",
              "      <td>0</td>\n",
              "      <td>0</td>\n",
              "      <td>0</td>\n",
              "      <td>0</td>\n",
              "      <td>0</td>\n",
              "      <td>0</td>\n",
              "      <td>0</td>\n",
              "      <td>0</td>\n",
              "      <td>0</td>\n",
              "      <td>0</td>\n",
              "      <td>0</td>\n",
              "      <td>0</td>\n",
              "      <td>0</td>\n",
              "      <td>0</td>\n",
              "      <td>0</td>\n",
              "      <td>0</td>\n",
              "      <td>1</td>\n",
              "    </tr>\n",
              "    <tr>\n",
              "      <th>3</th>\n",
              "      <td>234192</td>\n",
              "      <td>4</td>\n",
              "      <td>16</td>\n",
              "      <td>28</td>\n",
              "      <td>40</td>\n",
              "      <td>0</td>\n",
              "      <td>0</td>\n",
              "      <td>1</td>\n",
              "      <td>0</td>\n",
              "      <td>1</td>\n",
              "      <td>0</td>\n",
              "      <td>1</td>\n",
              "      <td>0</td>\n",
              "      <td>1</td>\n",
              "      <td>0</td>\n",
              "      <td>0</td>\n",
              "      <td>0</td>\n",
              "      <td>0</td>\n",
              "      <td>0</td>\n",
              "      <td>0</td>\n",
              "      <td>0</td>\n",
              "      <td>1</td>\n",
              "      <td>0</td>\n",
              "      <td>1</td>\n",
              "      <td>0</td>\n",
              "      <td>0</td>\n",
              "      <td>1</td>\n",
              "      <td>0</td>\n",
              "      <td>0</td>\n",
              "      <td>0</td>\n",
              "      <td>0</td>\n",
              "      <td>0</td>\n",
              "      <td>1</td>\n",
              "      <td>0</td>\n",
              "      <td>0</td>\n",
              "      <td>0</td>\n",
              "      <td>0</td>\n",
              "      <td>0</td>\n",
              "      <td>0</td>\n",
              "      <td>0</td>\n",
              "      <td>0</td>\n",
              "      <td>0</td>\n",
              "      <td>0</td>\n",
              "      <td>0</td>\n",
              "      <td>0</td>\n",
              "      <td>6</td>\n",
              "      <td>0</td>\n",
              "      <td>3</td>\n",
              "      <td>0</td>\n",
              "      <td>1</td>\n",
              "    </tr>\n",
              "    <tr>\n",
              "      <th>4</th>\n",
              "      <td>51549</td>\n",
              "      <td>1</td>\n",
              "      <td>18</td>\n",
              "      <td>31</td>\n",
              "      <td>32</td>\n",
              "      <td>0</td>\n",
              "      <td>0</td>\n",
              "      <td>1</td>\n",
              "      <td>1</td>\n",
              "      <td>0</td>\n",
              "      <td>1</td>\n",
              "      <td>1</td>\n",
              "      <td>1</td>\n",
              "      <td>0</td>\n",
              "      <td>0</td>\n",
              "      <td>1</td>\n",
              "      <td>1</td>\n",
              "      <td>1</td>\n",
              "      <td>0</td>\n",
              "      <td>0</td>\n",
              "      <td>0</td>\n",
              "      <td>0</td>\n",
              "      <td>0</td>\n",
              "      <td>0</td>\n",
              "      <td>0</td>\n",
              "      <td>0</td>\n",
              "      <td>0</td>\n",
              "      <td>0</td>\n",
              "      <td>0</td>\n",
              "      <td>0</td>\n",
              "      <td>0</td>\n",
              "      <td>0</td>\n",
              "      <td>0</td>\n",
              "      <td>0</td>\n",
              "      <td>0</td>\n",
              "      <td>0</td>\n",
              "      <td>0</td>\n",
              "      <td>0</td>\n",
              "      <td>0</td>\n",
              "      <td>0</td>\n",
              "      <td>0</td>\n",
              "      <td>0</td>\n",
              "      <td>0</td>\n",
              "      <td>0</td>\n",
              "      <td>0</td>\n",
              "      <td>10</td>\n",
              "      <td>0</td>\n",
              "      <td>2</td>\n",
              "      <td>0</td>\n",
              "      <td>1</td>\n",
              "    </tr>\n",
              "  </tbody>\n",
              "</table>\n",
              "</div>"
            ],
            "text/plain": [
              "     user  dayofweek  hour  age  ...  SavingsCount  CMCount  CCCount  LoansCount\n",
              "0  235136          3     2   23  ...             0        0        0           1\n",
              "1  333588          6     1   24  ...             0        0        0           1\n",
              "2  254414          1    19   23  ...             0        0        0           1\n",
              "3  234192          4    16   28  ...             0        3        0           1\n",
              "4   51549          1    18   31  ...             0        2        0           1\n",
              "\n",
              "[5 rows x 50 columns]"
            ]
          },
          "metadata": {
            "tags": []
          },
          "execution_count": 40
        }
      ]
    },
    {
      "cell_type": "code",
      "metadata": {
        "colab": {
          "base_uri": "https://localhost:8080/",
          "height": 307
        },
        "id": "o8_VxSBN3mFp",
        "outputId": "b5de07fc-6ad9-4955-ba64-26915ea675b0"
      },
      "source": [
        "dataset.describe()"
      ],
      "execution_count": 41,
      "outputs": [
        {
          "output_type": "execute_result",
          "data": {
            "text/html": [
              "<div>\n",
              "<style scoped>\n",
              "    .dataframe tbody tr th:only-of-type {\n",
              "        vertical-align: middle;\n",
              "    }\n",
              "\n",
              "    .dataframe tbody tr th {\n",
              "        vertical-align: top;\n",
              "    }\n",
              "\n",
              "    .dataframe thead th {\n",
              "        text-align: right;\n",
              "    }\n",
              "</style>\n",
              "<table border=\"1\" class=\"dataframe\">\n",
              "  <thead>\n",
              "    <tr style=\"text-align: right;\">\n",
              "      <th></th>\n",
              "      <th>user</th>\n",
              "      <th>dayofweek</th>\n",
              "      <th>hour</th>\n",
              "      <th>age</th>\n",
              "      <th>numscreens</th>\n",
              "      <th>minigame</th>\n",
              "      <th>used_premium_feature</th>\n",
              "      <th>enrolled</th>\n",
              "      <th>liked</th>\n",
              "      <th>location</th>\n",
              "      <th>Institutions</th>\n",
              "      <th>VerifyPhone</th>\n",
              "      <th>BankVerification</th>\n",
              "      <th>VerifyDateOfBirth</th>\n",
              "      <th>ProfilePage</th>\n",
              "      <th>VerifyCountry</th>\n",
              "      <th>Cycle</th>\n",
              "      <th>idscreen</th>\n",
              "      <th>Splash</th>\n",
              "      <th>RewardsContainer</th>\n",
              "      <th>EditProfile</th>\n",
              "      <th>Finances</th>\n",
              "      <th>Alerts</th>\n",
              "      <th>Leaderboard</th>\n",
              "      <th>VerifyMobile</th>\n",
              "      <th>VerifyHousing</th>\n",
              "      <th>RewardDetail</th>\n",
              "      <th>VerifyHousingAmount</th>\n",
              "      <th>ProfileMaritalStatus</th>\n",
              "      <th>ProfileChildren</th>\n",
              "      <th>ProfileEducation</th>\n",
              "      <th>ProfileEducationMajor</th>\n",
              "      <th>Rewards</th>\n",
              "      <th>AccountView</th>\n",
              "      <th>VerifyAnnualIncome</th>\n",
              "      <th>VerifyIncomeType</th>\n",
              "      <th>ProfileJobTitle</th>\n",
              "      <th>Login</th>\n",
              "      <th>ProfileEmploymentLength</th>\n",
              "      <th>WebView</th>\n",
              "      <th>SecurityModal</th>\n",
              "      <th>ResendToken</th>\n",
              "      <th>TransactionList</th>\n",
              "      <th>NetworkFailure</th>\n",
              "      <th>ListPicker</th>\n",
              "      <th>other</th>\n",
              "      <th>SavingsCount</th>\n",
              "      <th>CMCount</th>\n",
              "      <th>CCCount</th>\n",
              "      <th>LoansCount</th>\n",
              "    </tr>\n",
              "  </thead>\n",
              "  <tbody>\n",
              "    <tr>\n",
              "      <th>count</th>\n",
              "      <td>50000.000000</td>\n",
              "      <td>50000.000000</td>\n",
              "      <td>50000.000000</td>\n",
              "      <td>50000.00000</td>\n",
              "      <td>50000.000000</td>\n",
              "      <td>50000.000000</td>\n",
              "      <td>50000.000000</td>\n",
              "      <td>50000.000000</td>\n",
              "      <td>50000.000000</td>\n",
              "      <td>50000.000000</td>\n",
              "      <td>50000.000000</td>\n",
              "      <td>50000.000000</td>\n",
              "      <td>50000.000000</td>\n",
              "      <td>50000.000000</td>\n",
              "      <td>50000.000000</td>\n",
              "      <td>50000.000000</td>\n",
              "      <td>50000.000000</td>\n",
              "      <td>50000.000000</td>\n",
              "      <td>50000.000000</td>\n",
              "      <td>50000.000000</td>\n",
              "      <td>50000.000000</td>\n",
              "      <td>50000.000000</td>\n",
              "      <td>50000.000000</td>\n",
              "      <td>50000.000000</td>\n",
              "      <td>50000.000000</td>\n",
              "      <td>50000.000000</td>\n",
              "      <td>50000.000000</td>\n",
              "      <td>50000.000000</td>\n",
              "      <td>50000.000000</td>\n",
              "      <td>50000.0</td>\n",
              "      <td>50000.0000</td>\n",
              "      <td>50000.000000</td>\n",
              "      <td>50000.000000</td>\n",
              "      <td>50000.000000</td>\n",
              "      <td>50000.000000</td>\n",
              "      <td>50000.000000</td>\n",
              "      <td>50000.000000</td>\n",
              "      <td>50000.000000</td>\n",
              "      <td>50000.000000</td>\n",
              "      <td>50000.000000</td>\n",
              "      <td>50000.000000</td>\n",
              "      <td>50000.000000</td>\n",
              "      <td>50000.000000</td>\n",
              "      <td>50000.000000</td>\n",
              "      <td>50000.000000</td>\n",
              "      <td>50000.000000</td>\n",
              "      <td>50000.000000</td>\n",
              "      <td>50000.00000</td>\n",
              "      <td>50000.000000</td>\n",
              "      <td>50000.000000</td>\n",
              "    </tr>\n",
              "    <tr>\n",
              "      <th>mean</th>\n",
              "      <td>186889.729900</td>\n",
              "      <td>3.029860</td>\n",
              "      <td>12.557220</td>\n",
              "      <td>31.72436</td>\n",
              "      <td>21.095900</td>\n",
              "      <td>0.107820</td>\n",
              "      <td>0.172020</td>\n",
              "      <td>0.497000</td>\n",
              "      <td>0.165000</td>\n",
              "      <td>0.517760</td>\n",
              "      <td>0.293660</td>\n",
              "      <td>0.524600</td>\n",
              "      <td>0.319540</td>\n",
              "      <td>0.473480</td>\n",
              "      <td>0.158040</td>\n",
              "      <td>0.423160</td>\n",
              "      <td>0.364860</td>\n",
              "      <td>0.340700</td>\n",
              "      <td>0.200760</td>\n",
              "      <td>0.084000</td>\n",
              "      <td>0.048980</td>\n",
              "      <td>0.076540</td>\n",
              "      <td>0.073720</td>\n",
              "      <td>0.051520</td>\n",
              "      <td>0.053860</td>\n",
              "      <td>0.045080</td>\n",
              "      <td>0.030920</td>\n",
              "      <td>0.041420</td>\n",
              "      <td>0.047560</td>\n",
              "      <td>0.0</td>\n",
              "      <td>0.0455</td>\n",
              "      <td>0.041060</td>\n",
              "      <td>0.024420</td>\n",
              "      <td>0.026220</td>\n",
              "      <td>0.023580</td>\n",
              "      <td>0.031760</td>\n",
              "      <td>0.022460</td>\n",
              "      <td>0.029800</td>\n",
              "      <td>0.021160</td>\n",
              "      <td>0.096560</td>\n",
              "      <td>0.014220</td>\n",
              "      <td>0.013340</td>\n",
              "      <td>0.013400</td>\n",
              "      <td>0.008200</td>\n",
              "      <td>0.007580</td>\n",
              "      <td>6.214260</td>\n",
              "      <td>0.365020</td>\n",
              "      <td>0.92776</td>\n",
              "      <td>0.176860</td>\n",
              "      <td>0.788400</td>\n",
              "    </tr>\n",
              "    <tr>\n",
              "      <th>std</th>\n",
              "      <td>107768.520361</td>\n",
              "      <td>2.031997</td>\n",
              "      <td>7.438072</td>\n",
              "      <td>10.80331</td>\n",
              "      <td>15.728812</td>\n",
              "      <td>0.310156</td>\n",
              "      <td>0.377402</td>\n",
              "      <td>0.499996</td>\n",
              "      <td>0.371184</td>\n",
              "      <td>0.499689</td>\n",
              "      <td>0.455443</td>\n",
              "      <td>0.499399</td>\n",
              "      <td>0.466303</td>\n",
              "      <td>0.499301</td>\n",
              "      <td>0.364782</td>\n",
              "      <td>0.494065</td>\n",
              "      <td>0.481396</td>\n",
              "      <td>0.473949</td>\n",
              "      <td>0.400573</td>\n",
              "      <td>0.277391</td>\n",
              "      <td>0.215828</td>\n",
              "      <td>0.265863</td>\n",
              "      <td>0.261317</td>\n",
              "      <td>0.221058</td>\n",
              "      <td>0.225743</td>\n",
              "      <td>0.207482</td>\n",
              "      <td>0.173103</td>\n",
              "      <td>0.199262</td>\n",
              "      <td>0.212836</td>\n",
              "      <td>0.0</td>\n",
              "      <td>0.2084</td>\n",
              "      <td>0.198431</td>\n",
              "      <td>0.154351</td>\n",
              "      <td>0.159791</td>\n",
              "      <td>0.151738</td>\n",
              "      <td>0.175362</td>\n",
              "      <td>0.148176</td>\n",
              "      <td>0.170037</td>\n",
              "      <td>0.143919</td>\n",
              "      <td>0.295361</td>\n",
              "      <td>0.118398</td>\n",
              "      <td>0.114727</td>\n",
              "      <td>0.114981</td>\n",
              "      <td>0.090183</td>\n",
              "      <td>0.086733</td>\n",
              "      <td>3.672561</td>\n",
              "      <td>1.405511</td>\n",
              "      <td>1.21751</td>\n",
              "      <td>0.612787</td>\n",
              "      <td>0.677462</td>\n",
              "    </tr>\n",
              "    <tr>\n",
              "      <th>min</th>\n",
              "      <td>13.000000</td>\n",
              "      <td>0.000000</td>\n",
              "      <td>0.000000</td>\n",
              "      <td>16.00000</td>\n",
              "      <td>1.000000</td>\n",
              "      <td>0.000000</td>\n",
              "      <td>0.000000</td>\n",
              "      <td>0.000000</td>\n",
              "      <td>0.000000</td>\n",
              "      <td>0.000000</td>\n",
              "      <td>0.000000</td>\n",
              "      <td>0.000000</td>\n",
              "      <td>0.000000</td>\n",
              "      <td>0.000000</td>\n",
              "      <td>0.000000</td>\n",
              "      <td>0.000000</td>\n",
              "      <td>0.000000</td>\n",
              "      <td>0.000000</td>\n",
              "      <td>0.000000</td>\n",
              "      <td>0.000000</td>\n",
              "      <td>0.000000</td>\n",
              "      <td>0.000000</td>\n",
              "      <td>0.000000</td>\n",
              "      <td>0.000000</td>\n",
              "      <td>0.000000</td>\n",
              "      <td>0.000000</td>\n",
              "      <td>0.000000</td>\n",
              "      <td>0.000000</td>\n",
              "      <td>0.000000</td>\n",
              "      <td>0.0</td>\n",
              "      <td>0.0000</td>\n",
              "      <td>0.000000</td>\n",
              "      <td>0.000000</td>\n",
              "      <td>0.000000</td>\n",
              "      <td>0.000000</td>\n",
              "      <td>0.000000</td>\n",
              "      <td>0.000000</td>\n",
              "      <td>0.000000</td>\n",
              "      <td>0.000000</td>\n",
              "      <td>0.000000</td>\n",
              "      <td>0.000000</td>\n",
              "      <td>0.000000</td>\n",
              "      <td>0.000000</td>\n",
              "      <td>0.000000</td>\n",
              "      <td>0.000000</td>\n",
              "      <td>0.000000</td>\n",
              "      <td>0.000000</td>\n",
              "      <td>0.00000</td>\n",
              "      <td>0.000000</td>\n",
              "      <td>0.000000</td>\n",
              "    </tr>\n",
              "    <tr>\n",
              "      <th>25%</th>\n",
              "      <td>93526.750000</td>\n",
              "      <td>1.000000</td>\n",
              "      <td>5.000000</td>\n",
              "      <td>24.00000</td>\n",
              "      <td>10.000000</td>\n",
              "      <td>0.000000</td>\n",
              "      <td>0.000000</td>\n",
              "      <td>0.000000</td>\n",
              "      <td>0.000000</td>\n",
              "      <td>0.000000</td>\n",
              "      <td>0.000000</td>\n",
              "      <td>0.000000</td>\n",
              "      <td>0.000000</td>\n",
              "      <td>0.000000</td>\n",
              "      <td>0.000000</td>\n",
              "      <td>0.000000</td>\n",
              "      <td>0.000000</td>\n",
              "      <td>0.000000</td>\n",
              "      <td>0.000000</td>\n",
              "      <td>0.000000</td>\n",
              "      <td>0.000000</td>\n",
              "      <td>0.000000</td>\n",
              "      <td>0.000000</td>\n",
              "      <td>0.000000</td>\n",
              "      <td>0.000000</td>\n",
              "      <td>0.000000</td>\n",
              "      <td>0.000000</td>\n",
              "      <td>0.000000</td>\n",
              "      <td>0.000000</td>\n",
              "      <td>0.0</td>\n",
              "      <td>0.0000</td>\n",
              "      <td>0.000000</td>\n",
              "      <td>0.000000</td>\n",
              "      <td>0.000000</td>\n",
              "      <td>0.000000</td>\n",
              "      <td>0.000000</td>\n",
              "      <td>0.000000</td>\n",
              "      <td>0.000000</td>\n",
              "      <td>0.000000</td>\n",
              "      <td>0.000000</td>\n",
              "      <td>0.000000</td>\n",
              "      <td>0.000000</td>\n",
              "      <td>0.000000</td>\n",
              "      <td>0.000000</td>\n",
              "      <td>0.000000</td>\n",
              "      <td>3.000000</td>\n",
              "      <td>0.000000</td>\n",
              "      <td>0.00000</td>\n",
              "      <td>0.000000</td>\n",
              "      <td>0.000000</td>\n",
              "    </tr>\n",
              "    <tr>\n",
              "      <th>50%</th>\n",
              "      <td>187193.500000</td>\n",
              "      <td>3.000000</td>\n",
              "      <td>14.000000</td>\n",
              "      <td>29.00000</td>\n",
              "      <td>18.000000</td>\n",
              "      <td>0.000000</td>\n",
              "      <td>0.000000</td>\n",
              "      <td>0.000000</td>\n",
              "      <td>0.000000</td>\n",
              "      <td>1.000000</td>\n",
              "      <td>0.000000</td>\n",
              "      <td>1.000000</td>\n",
              "      <td>0.000000</td>\n",
              "      <td>0.000000</td>\n",
              "      <td>0.000000</td>\n",
              "      <td>0.000000</td>\n",
              "      <td>0.000000</td>\n",
              "      <td>0.000000</td>\n",
              "      <td>0.000000</td>\n",
              "      <td>0.000000</td>\n",
              "      <td>0.000000</td>\n",
              "      <td>0.000000</td>\n",
              "      <td>0.000000</td>\n",
              "      <td>0.000000</td>\n",
              "      <td>0.000000</td>\n",
              "      <td>0.000000</td>\n",
              "      <td>0.000000</td>\n",
              "      <td>0.000000</td>\n",
              "      <td>0.000000</td>\n",
              "      <td>0.0</td>\n",
              "      <td>0.0000</td>\n",
              "      <td>0.000000</td>\n",
              "      <td>0.000000</td>\n",
              "      <td>0.000000</td>\n",
              "      <td>0.000000</td>\n",
              "      <td>0.000000</td>\n",
              "      <td>0.000000</td>\n",
              "      <td>0.000000</td>\n",
              "      <td>0.000000</td>\n",
              "      <td>0.000000</td>\n",
              "      <td>0.000000</td>\n",
              "      <td>0.000000</td>\n",
              "      <td>0.000000</td>\n",
              "      <td>0.000000</td>\n",
              "      <td>0.000000</td>\n",
              "      <td>6.000000</td>\n",
              "      <td>0.000000</td>\n",
              "      <td>0.00000</td>\n",
              "      <td>0.000000</td>\n",
              "      <td>1.000000</td>\n",
              "    </tr>\n",
              "    <tr>\n",
              "      <th>75%</th>\n",
              "      <td>279984.250000</td>\n",
              "      <td>5.000000</td>\n",
              "      <td>19.000000</td>\n",
              "      <td>37.00000</td>\n",
              "      <td>28.000000</td>\n",
              "      <td>0.000000</td>\n",
              "      <td>0.000000</td>\n",
              "      <td>1.000000</td>\n",
              "      <td>0.000000</td>\n",
              "      <td>1.000000</td>\n",
              "      <td>1.000000</td>\n",
              "      <td>1.000000</td>\n",
              "      <td>1.000000</td>\n",
              "      <td>1.000000</td>\n",
              "      <td>0.000000</td>\n",
              "      <td>1.000000</td>\n",
              "      <td>1.000000</td>\n",
              "      <td>1.000000</td>\n",
              "      <td>0.000000</td>\n",
              "      <td>0.000000</td>\n",
              "      <td>0.000000</td>\n",
              "      <td>0.000000</td>\n",
              "      <td>0.000000</td>\n",
              "      <td>0.000000</td>\n",
              "      <td>0.000000</td>\n",
              "      <td>0.000000</td>\n",
              "      <td>0.000000</td>\n",
              "      <td>0.000000</td>\n",
              "      <td>0.000000</td>\n",
              "      <td>0.0</td>\n",
              "      <td>0.0000</td>\n",
              "      <td>0.000000</td>\n",
              "      <td>0.000000</td>\n",
              "      <td>0.000000</td>\n",
              "      <td>0.000000</td>\n",
              "      <td>0.000000</td>\n",
              "      <td>0.000000</td>\n",
              "      <td>0.000000</td>\n",
              "      <td>0.000000</td>\n",
              "      <td>0.000000</td>\n",
              "      <td>0.000000</td>\n",
              "      <td>0.000000</td>\n",
              "      <td>0.000000</td>\n",
              "      <td>0.000000</td>\n",
              "      <td>0.000000</td>\n",
              "      <td>8.000000</td>\n",
              "      <td>0.000000</td>\n",
              "      <td>1.00000</td>\n",
              "      <td>0.000000</td>\n",
              "      <td>1.000000</td>\n",
              "    </tr>\n",
              "    <tr>\n",
              "      <th>max</th>\n",
              "      <td>373662.000000</td>\n",
              "      <td>6.000000</td>\n",
              "      <td>23.000000</td>\n",
              "      <td>101.00000</td>\n",
              "      <td>325.000000</td>\n",
              "      <td>1.000000</td>\n",
              "      <td>1.000000</td>\n",
              "      <td>1.000000</td>\n",
              "      <td>1.000000</td>\n",
              "      <td>1.000000</td>\n",
              "      <td>1.000000</td>\n",
              "      <td>1.000000</td>\n",
              "      <td>1.000000</td>\n",
              "      <td>1.000000</td>\n",
              "      <td>1.000000</td>\n",
              "      <td>1.000000</td>\n",
              "      <td>1.000000</td>\n",
              "      <td>1.000000</td>\n",
              "      <td>1.000000</td>\n",
              "      <td>1.000000</td>\n",
              "      <td>1.000000</td>\n",
              "      <td>1.000000</td>\n",
              "      <td>1.000000</td>\n",
              "      <td>1.000000</td>\n",
              "      <td>1.000000</td>\n",
              "      <td>1.000000</td>\n",
              "      <td>1.000000</td>\n",
              "      <td>1.000000</td>\n",
              "      <td>1.000000</td>\n",
              "      <td>0.0</td>\n",
              "      <td>1.0000</td>\n",
              "      <td>1.000000</td>\n",
              "      <td>1.000000</td>\n",
              "      <td>1.000000</td>\n",
              "      <td>1.000000</td>\n",
              "      <td>1.000000</td>\n",
              "      <td>1.000000</td>\n",
              "      <td>1.000000</td>\n",
              "      <td>1.000000</td>\n",
              "      <td>1.000000</td>\n",
              "      <td>1.000000</td>\n",
              "      <td>1.000000</td>\n",
              "      <td>1.000000</td>\n",
              "      <td>1.000000</td>\n",
              "      <td>1.000000</td>\n",
              "      <td>35.000000</td>\n",
              "      <td>10.000000</td>\n",
              "      <td>5.00000</td>\n",
              "      <td>3.000000</td>\n",
              "      <td>3.000000</td>\n",
              "    </tr>\n",
              "  </tbody>\n",
              "</table>\n",
              "</div>"
            ],
            "text/plain": [
              "                user     dayofweek  ...       CCCount    LoansCount\n",
              "count   50000.000000  50000.000000  ...  50000.000000  50000.000000\n",
              "mean   186889.729900      3.029860  ...      0.176860      0.788400\n",
              "std    107768.520361      2.031997  ...      0.612787      0.677462\n",
              "min        13.000000      0.000000  ...      0.000000      0.000000\n",
              "25%     93526.750000      1.000000  ...      0.000000      0.000000\n",
              "50%    187193.500000      3.000000  ...      0.000000      1.000000\n",
              "75%    279984.250000      5.000000  ...      0.000000      1.000000\n",
              "max    373662.000000      6.000000  ...      3.000000      3.000000\n",
              "\n",
              "[8 rows x 50 columns]"
            ]
          },
          "metadata": {
            "tags": []
          },
          "execution_count": 41
        }
      ]
    },
    {
      "cell_type": "code",
      "metadata": {
        "colab": {
          "base_uri": "https://localhost:8080/"
        },
        "id": "PBYD9L6S3pyh",
        "outputId": "e11e3eed-7a5f-462e-dfea-dbbd63368dca"
      },
      "source": [
        "dataset.columns"
      ],
      "execution_count": 43,
      "outputs": [
        {
          "output_type": "execute_result",
          "data": {
            "text/plain": [
              "Index(['user', 'dayofweek', 'hour', 'age', 'numscreens', 'minigame',\n",
              "       'used_premium_feature', 'enrolled', 'liked', 'location', 'Institutions',\n",
              "       'VerifyPhone', 'BankVerification', 'VerifyDateOfBirth', 'ProfilePage',\n",
              "       'VerifyCountry', 'Cycle', 'idscreen', 'Splash', 'RewardsContainer',\n",
              "       'EditProfile', 'Finances', 'Alerts', 'Leaderboard', 'VerifyMobile',\n",
              "       'VerifyHousing', 'RewardDetail', 'VerifyHousingAmount',\n",
              "       'ProfileMaritalStatus', 'ProfileChildren ', 'ProfileEducation',\n",
              "       'ProfileEducationMajor', 'Rewards', 'AccountView', 'VerifyAnnualIncome',\n",
              "       'VerifyIncomeType', 'ProfileJobTitle', 'Login',\n",
              "       'ProfileEmploymentLength', 'WebView', 'SecurityModal', 'ResendToken',\n",
              "       'TransactionList', 'NetworkFailure', 'ListPicker', 'other',\n",
              "       'SavingsCount', 'CMCount', 'CCCount', 'LoansCount'],\n",
              "      dtype='object')"
            ]
          },
          "metadata": {
            "tags": []
          },
          "execution_count": 43
        }
      ]
    },
    {
      "cell_type": "code",
      "metadata": {
        "id": "EgLfVyBv4RLL"
      },
      "source": [
        "dataset.to_csv(\"New_appdata20.csv\", index=False)"
      ],
      "execution_count": 44,
      "outputs": []
    }
  ]
}